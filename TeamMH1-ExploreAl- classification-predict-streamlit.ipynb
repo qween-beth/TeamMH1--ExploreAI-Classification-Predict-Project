{
 "cells": [
  {
   "cell_type": "markdown",
   "id": "34743296",
   "metadata": {},
   "source": [
    "# EDSA - Twitter Sentiment Classification\n",
    "<h3> Climate Change Belief Analysis 2022 </h3>\n",
    "<h3>Predict an individual’s belief in climate change based on historical tweet data </h3>\n",
    "</br>\n",
    "\n",
    "<b>Executed by: TeamMH1-ExploreAl Climate Change Belief Analysis 2022</b>\n",
    "\n",
    "###### Members\n",
    "\n",
    "1. Deborah Obafemi\n",
    "2. Elizabeth Olorunleke \n",
    "3. Lebogang Methikge\n",
    "4. Philile Pertunia Luhlanga\n",
    "5. Robert Ochieng\n",
    "6. Theodore Khuliso Ramahanedza\n",
    "\n",
    "\n",
    "\n"
   ]
  },
  {
   "cell_type": "markdown",
   "id": "e53bb82f",
   "metadata": {},
   "source": [
    "# Table of Contents\n",
    "\n",
    "* 1. Introduction\n",
    "    - 1.1 Predict Overview\n",
    "    - 1.2 Data Description\n",
    "* 2. Imports\n",
    "* 3. Importing the dataset\n",
    "* 4. Exploratory Data Analysis\n",
    "* 5 Distribution of target variable\n",
    "    - 5.1 Visualising a corpus for each sentiment class:\n",
    "* 6 Data Preprocessing\n",
    "\n",
    "    \n",
    "* 7 Feature Engineering and Modelling \n",
    "    - 7.1 Naive Bayes classifier\n",
    "    - 7.2 SVC and linear SVC classifier\n",
    "    - 7.3 Logistic Regression classifier\n",
    "    - 7.4 K. Nearest Neighbor classifier\n",
    "    - 7.5 Decision Tree Neighbor classifier\n",
    "    - 7.6 Random Forest classifier\n",
    "* 8 Model performance\n",
    "    - 8.1 Parameters Tuning\n",
    "* 9. Generating a submission file\n",
    "\n",
    "* 10 Conclusion\n",
    "\n",
    "* 11. References\n",
    "    "
   ]
  },
  {
   "cell_type": "markdown",
   "id": "40ba78e1",
   "metadata": {},
   "source": [
    "# 1. INTRODUCTION\n",
    "## PREDICT OVERVIEW"
   ]
  },
  {
   "cell_type": "markdown",
   "id": "26b02246",
   "metadata": {},
   "source": [
    "### Predict an individual’s belief in climate change based on historical tweet data\n",
    "#### Problem statement\n",
    "\n",
    "###### Using Twitter to measure the impact of climate change:\n",
    "Many companies are built around lessening one’s environmental impact or carbon footprint. They offer products and services that are environmentally friendly and sustainable, in line with their values and ideals. They would like to determine how people perceive climate change and whether or not they believe it is a real threat. This would add to their market research efforts in gauging how their product/service may be received.\n",
    "\n",
    "With this context, EDSA is challenging Team_MHI  #Classification Sprint with the task of creating a Machine Learning model that is able to classify whether or not a person believes in climate change, based on their novel tweet data.\n",
    "\n",
    "Providing an accurate and robust solution to this task gives companies access to a broad base of consumer sentiment, spanning multiple demographic and geographic categories - thus increasing their insights and informing future marketing strategies.\n",
    "<div align=\"center\" style=\"width: 500px; font-size: 80%; text-align: center; margin: 0 auto\">\n",
    "<img src=\"https://media.tenor.com/images/47d160eabb0927ed23827ab099ee83c3/tenor.gif\"\n",
    "     alt=\"Dummy image 1\"\n",
    "     style=\"float: center; padding-bottom=0.5em\"\n",
    "     width=500px/>"
   ]
  },
  {
   "cell_type": "markdown",
   "id": "0f672b9b",
   "metadata": {},
   "source": [
    "<a id=\"2\"></a>\n",
    "\n",
    "# **2. Imports**\n",
    "We will import necessary packages for data manupulation e.g numpy, data viewing e.g pandas, plotting e.g matplot library, seaborn and additional packages for text processing and numerical computations below."
   ]
  },
  {
   "cell_type": "code",
   "execution_count": null,
   "id": "b38de548",
   "metadata": {},
   "outputs": [],
   "source": []
  }
 ],
 "metadata": {
  "kernelspec": {
   "display_name": "Python 3 (ipykernel)",
   "language": "python",
   "name": "python3"
  },
  "language_info": {
   "codemirror_mode": {
    "name": "ipython",
    "version": 3
   },
   "file_extension": ".py",
   "mimetype": "text/x-python",
   "name": "python",
   "nbconvert_exporter": "python",
   "pygments_lexer": "ipython3",
   "version": "3.9.12"
  }
 },
 "nbformat": 4,
 "nbformat_minor": 5
}
